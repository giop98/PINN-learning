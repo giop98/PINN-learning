{
 "cells": [
  {
   "attachments": {},
   "cell_type": "markdown",
   "metadata": {},
   "source": [
    "# First PINN Neural Network"
   ]
  },
  {
   "attachments": {},
   "cell_type": "markdown",
   "metadata": {},
   "source": [
    "This notebook is used to try to define a simple PINN neural network. It is inspired by this repository https://github.com/lukerlars/PiNN_masterthesis, in particular by this code https://github.com/lukerlars/PiNN_masterthesis/blob/master/quick_example.py. The goal is to understand more in detail how they work and how to implement them. As we know, PINNs need to have a loss function that is composed of two parts: the first one is the loss function that we want to minimize, the second one is the loss function of the physics constraints. The total loss function is then defined as:\n",
    "\n",
    "$$\n",
    "\\mathcal{L} = \\mathcal{L}_{\\text{data}} + \\mathcal{L}_{\\text{physics}}\n",
    "$$"
   ]
  },
  {
   "attachments": {},
   "cell_type": "markdown",
   "metadata": {},
   "source": [
    "The network used for this notebook is really simple. It is composed of 3 layers:\n",
    "- **torch.nn.Linear(1,20)**: The first layer takes an input tensor of size (batch_size, 1) and produces an output tensor of size (batch_size, 20). The weight matrix of this layer has a shape of (20, 1), indicating that it performs a linear transformation mapping the input features to 20 output features\n",
    "- **torch.nn.Tanh()**: This layer initializes the hyperbolic tangent activation function (tanh)\n",
    "- **torch.nn.Linear(20,1)**: This layer takes an input tensor of size (batch_size, 20) and produces an output tensor of size (batch_size, 1). The weight matrix of this layer has a shape of (1, 20), indicating that it performs a linear transformation mapping the 20 input features to a single output feature"
   ]
  },
  {
   "cell_type": "code",
   "execution_count": 29,
   "metadata": {},
   "outputs": [],
   "source": [
    "import torch \n",
    "import matplotlib.pyplot as plt\n",
    "import numpy as np\n",
    "\n",
    "\n",
    "class Neural_net(torch.nn.Module):\n",
    "    def __init__(self):\n",
    "        super(Neural_net, self).__init__()\n",
    "\n",
    "        self.layer1 = torch.nn.Linear(1,20)\n",
    "        self.tanh = torch.nn.Tanh()\n",
    "        self.layer2 = torch.nn.Linear(20,1)\n",
    "\n",
    "    def forward(self, x):\n",
    "        x = self.layer1(x)\n",
    "        x = self.tanh(x)\n",
    "        x = self.layer2(x)\n",
    "        return x"
   ]
  },
  {
   "attachments": {},
   "cell_type": "markdown",
   "metadata": {},
   "source": [
    "Now that the network behind the PINN has been defined, let's understand which equations we want to solve. This is the equation that we want to solve:\n",
    "\n",
    "$$\n",
    "\\frac{d\\Psi}{dx} + (x + \\frac{1 + 3x^2}{1 + x + x^3}) \\Psi = x^3 + 2x + x^2 \\frac{1 + 3x^2}{1 + x + x^3}\n",
    "$$\n",
    "\n",
    "The two coefficient of the differential equations are:\n",
    "\n",
    "$$\n",
    "f_1(x) = x + \\frac{1 + 3x^2}{1 + x + x^3}\n",
    "$$\n",
    "\n",
    "$$\n",
    "f_2(x) = x^3 + 2x + x^2 \\frac{1 + 3x^2}{1 + x + x^3}\n",
    "$$"
   ]
  },
  {
   "cell_type": "code",
   "execution_count": 30,
   "metadata": {},
   "outputs": [],
   "source": [
    "class Simple_pinn():\n",
    "        def coef(self, x):\n",
    "                return (x + (1+3*x**2)/(1+x+x**3))\n",
    "\n",
    "        def expr(self, x):\n",
    "                return x**3 + 2*x + x**2*((1+3*x**2)/(1+x+x**3))"
   ]
  },
  {
   "attachments": {},
   "cell_type": "markdown",
   "metadata": {},
   "source": [
    "Now it's possible to define the loss function. First, we need to define the predicted value given a set of input. This is represented by the `pred` variable. Then, we need to compute the differential of the prediction, since we have the term $\\frac{d\\Psi}{dx}$. This is saved in the `dpred` variable.\n",
    "\n",
    "Then we can compute the loss caused by the differential equation and the loss caused by the intial condition. `z0` represents the loss caused by the differential equation, while `ic` represents the loss with respect to the initial condition. The total loss is then computed as the sum of the two losses."
   ]
  },
  {
   "cell_type": "code",
   "execution_count": 31,
   "metadata": {},
   "outputs": [],
   "source": [
    "class Simple_pinn(Simple_pinn):\n",
    "    def de_loss(self):\n",
    "        pred = self.model(self.x_domain)\n",
    "        dpred = self.wrap_torch_grad(pred, self.x_domain) \n",
    "        \n",
    "        z0 = torch.mean((dpred + self.coef(self.x_domain)*pred -self.expr(self.x_domain))**2)\n",
    "        ic = (self.c0 - pred[0])**2\n",
    "        \n",
    "        return z0 + ic"
   ]
  },
  {
   "attachments": {},
   "cell_type": "markdown",
   "metadata": {},
   "source": [
    "Another thing that we need to define is the true solution of the differential equation. This is used to compute the error between the predicted solution and the true solution. This differential equations has an analytical solution, which is:\n",
    "\n",
    "$$\n",
    "\\Psi(x) = x^2 + \\frac{e^{\\frac{-x^2}{2}}}{1 + x + x^3}\n",
    "$$\n"
   ]
  },
  {
   "cell_type": "code",
   "execution_count": 32,
   "metadata": {},
   "outputs": [],
   "source": [
    "class Simple_pinn(Simple_pinn):\n",
    "    def true_sol(self,x):\n",
    "        return x**2 + np.exp(-x**2/2)/(1+x+x**3)"
   ]
  },
  {
   "attachments": {},
   "cell_type": "markdown",
   "metadata": {},
   "source": [
    "# PINN Definition"
   ]
  },
  {
   "attachments": {},
   "cell_type": "markdown",
   "metadata": {},
   "source": [
    "Let's now define the actual class for the PINN. The model, is the one we already defined. What it could be misleading is the use of the following variables:\n",
    "- `x_domain`: This is the input used for the computation of the loss function\n",
    "- `some_xs`: This is the input used for the computation of the analytical solution\n",
    "- `some_other_xs`: This is the input used for the computation of the predicted solution\n",
    "On the other hand, `c0` represents the initial condition. \n",
    "\n",
    "The function `wrap_torch_grad` executes the derivative of the function `f` with respect to the variable `x`. "
   ]
  },
  {
   "cell_type": "code",
   "execution_count": 33,
   "metadata": {},
   "outputs": [],
   "source": [
    "class Simple_pinn(Simple_pinn):\n",
    "    def __init__(self, epochs):\n",
    "        self.model = Neural_net() # Simple 1-layer PyTorch neural network model\n",
    "        self.some_xs = np.linspace(0,2,10)\n",
    "        self.some_other_xs = torch.linspace(0,2,100,requires_grad=True).reshape(-1,1) \n",
    "\n",
    "        self.x_domain =torch.linspace(0,1,100,requires_grad=True).reshape(-1,1) \n",
    "        self.optimizer = torch.optim.LBFGS(params = self.model.parameters(), lr =0.001, max_iter=200)\n",
    "        self.c0 = 1.0\n",
    "        self.epochs = epochs\n",
    "    \n",
    "    def wrap_torch_grad(self, f,x):\n",
    "        return torch.autograd.grad(f,x,\n",
    "        grad_outputs=torch.ones_like(x),\n",
    "        retain_graph=True,\n",
    "        create_graph=True)[0]"
   ]
  },
  {
   "attachments": {},
   "cell_type": "markdown",
   "metadata": {},
   "source": [
    "The train loop is really simple and it just a loop over the epochs. For each epoch, the loss is computed and the optimizer is used to update the weights of the network."
   ]
  },
  {
   "cell_type": "code",
   "execution_count": 34,
   "metadata": {},
   "outputs": [],
   "source": [
    "class Simple_pinn(Simple_pinn):\n",
    "    def closure(self):\n",
    "        self.optimizer.zero_grad()\n",
    "        loss = self.de_loss()\n",
    "        loss.backward()\n",
    "        return loss\n",
    "    \n",
    "    def train(self):\n",
    "        self.model.train()    \n",
    "        for epoch in range(self.epochs):\n",
    "            self.optimizer.step(closure=self.closure)\n",
    "            print(self.de_loss())\n",
    "        plt.plot(self.some_other_xs.detach(), self.model(self.some_other_xs).detach(), label = 'pred')\n",
    "        plt.scatter(self.some_xs, [self.true_sol(x) for x in self.some_xs], label = 'analytic')\n",
    "        plt.legend()\n",
    "        plt.grid()\n",
    "        plt.show()\n",
    "    \n",
    "\n",
    "            "
   ]
  },
  {
   "cell_type": "code",
   "execution_count": 35,
   "metadata": {},
   "outputs": [
    {
     "name": "stdout",
     "output_type": "stream",
     "text": [
      "tensor([1.1276], grad_fn=<AddBackward0>)\n",
      "tensor([0.6406], grad_fn=<AddBackward0>)\n",
      "tensor([0.4943], grad_fn=<AddBackward0>)\n",
      "tensor([0.2173], grad_fn=<AddBackward0>)\n",
      "tensor([0.0569], grad_fn=<AddBackward0>)\n",
      "tensor([0.0272], grad_fn=<AddBackward0>)\n",
      "tensor([0.0116], grad_fn=<AddBackward0>)\n",
      "tensor([0.0041], grad_fn=<AddBackward0>)\n",
      "tensor([0.0015], grad_fn=<AddBackward0>)\n",
      "tensor([0.0006], grad_fn=<AddBackward0>)\n"
     ]
    },
    {
     "data": {
      "image/png": "[encoded data removed]",
      "text/plain": [
       "<Figure size 640x480 with 1 Axes>"
      ]
     },
     "metadata": {},
     "output_type": "display_data"
    }
   ],
   "source": [
    "instance = Simple_pinn(epochs= 10)\n",
    "instance.train()"
   ]
  },
  {
   "attachments": {},
   "cell_type": "markdown",
   "metadata": {},
   "source": []
  }
 ],
 "metadata": {
  "kernelspec": {
   "display_name": "venv",
   "language": "python",
   "name": "python3"
  },
  "language_info": {
   "codemirror_mode": {
    "name": "ipython",
    "version": 3
   },
   "file_extension": ".py",
   "mimetype": "text/x-python",
   "name": "python",
   "nbconvert_exporter": "python",
   "pygments_lexer": "ipython3",
   "version": "3.11.4"
  },
  "orig_nbformat": 4
 },
 "nbformat": 4,
 "nbformat_minor": 2
}
